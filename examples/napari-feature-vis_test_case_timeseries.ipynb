{
 "cells": [
  {
   "cell_type": "code",
   "execution_count": 1,
   "metadata": {},
   "outputs": [],
   "source": [
    "%gui qt5\n",
    "import numpy as np\n",
    "import pandas as pd\n",
    "import napari"
   ]
  },
  {
   "cell_type": "code",
   "execution_count": 2,
   "metadata": {},
   "outputs": [],
   "source": [
    "# dummy 2D-t image \n",
    "\n",
    "label_image = np.zeros([50, 50]).astype('uint16')\n",
    "label_image[5:10, 5:10] = 1\n",
    "label_image[15:20, 5:10] = 2\n",
    "label_image[25:30, 5:10] = 3\n",
    "label_image[5:10, 15:20] = 4\n",
    "label_image[15:20, 15:20] = 5\n",
    "label_image[25:30, 15:20] = 6\n",
    "\n",
    "label_image = np.repeat(label_image[np.newaxis, :], 3,  axis=0)"
   ]
  },
  {
   "cell_type": "code",
   "execution_count": 3,
   "metadata": {},
   "outputs": [],
   "source": [
    "# dummy df for this test\n",
    "d = {'label': [1, 2, 3, 4, 5, 6, 1, 2, 3, 4, 5, 6, 1, 2, 3, 4, 5, 6],\n",
    "     'feature1': [100, 200, 300, 500, 900, 1001,\n",
    "                  500, 800, 1300, 1500, 1900, 2001,\n",
    "                  50, 20, 990, 20, 240, 100],\n",
    "     'feature2': [2200, 2100, 2000, 1500, 1300, 1001,\n",
    "                  200, 100, 500, 30, 1300, 5001,\n",
    "                  20, 2440, 20, 20, 20, 100], \n",
    "     'timepoint': [0, 0, 0, 0, 0, 0,\n",
    "                   1, 1, 1, 1, 1, 1,\n",
    "                   2, 2, 2, 2, 2, 2]}\n",
    "\n",
    "df = pd.DataFrame(data=d)\n",
    "df.to_csv('test_df.csv', index=False)"
   ]
  },
  {
   "cell_type": "code",
   "execution_count": 4,
   "metadata": {},
   "outputs": [
    {
     "data": {
      "text/plain": [
       "<Labels layer 'labels' at 0x204d4fddcc8>"
      ]
     },
     "execution_count": 4,
     "metadata": {},
     "output_type": "execute_result"
    }
   ],
   "source": [
    "viewer = napari.Viewer()\n",
    "viewer.add_labels(label_image, name='labels')"
   ]
  }
 ],
 "metadata": {
  "kernelspec": {
   "display_name": "Python 3",
   "language": "python",
   "name": "python3"
  },
  "language_info": {
   "codemirror_mode": {
    "name": "ipython",
    "version": 3
   },
   "file_extension": ".py",
   "mimetype": "text/x-python",
   "name": "python",
   "nbconvert_exporter": "python",
   "pygments_lexer": "ipython3",
   "version": "3.7.6"
  }
 },
 "nbformat": 4,
 "nbformat_minor": 5
}
