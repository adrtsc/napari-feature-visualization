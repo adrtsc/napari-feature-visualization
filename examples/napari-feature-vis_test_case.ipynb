{
 "cells": [
  {
   "cell_type": "markdown",
   "id": "df05b5f5-d16c-4782-9327-08f4b57225b5",
   "metadata": {},
   "source": [
    "# Build a napari plugin for feature visualization\n",
    "Use the cookiecutter template: https://github.com/napari/cookiecutter-napari-plugin  \n",
    "Magicgui for interface parts? https://napari.org/magicgui/  \n",
    "Napari plugin instructions: https://napari.org/plugins/stable/for_plugin_developers.html  \n",
    "Example project: https://github.com/jni/affinder/blob/393b0c666622fb65835ef056ed5233c2bd1034f2/affinder/affinder.py#L85-L97 \n",
    "Forum discussion: https://forum.image.sc/t/visualizing-feature-measurements-in-napari-using-colormaps-as-luts/51567/6  "
   ]
  },
  {
   "cell_type": "code",
   "execution_count": 1,
   "id": "d0116c56-e81a-4640-8032-7644c330ecde",
   "metadata": {},
   "outputs": [],
   "source": [
    "import numpy as np\n",
    "import napari_feature_visualization\n",
    "\n",
    "%gui qt5\n",
    "# Note that this Magics command needs to be run in a cell\n",
    "# before any of the Napari objects are instantiated to\n",
    "# ensure it has time to finish executing before they are\n",
    "# called\n",
    "import napari"
   ]
  },
  {
   "cell_type": "code",
   "execution_count": 2,
   "id": "1303bc85-98a4-4fc8-a502-37f191d48f81",
   "metadata": {},
   "outputs": [],
   "source": [
    "# Create a dummy label image\n",
    "shape = (1, 50, 50)\n",
    "lbl_img_np = np.zeros(shape).astype('uint16')\n",
    "lbl_img_np[0, 5:10, 5:10] = 1\n",
    "lbl_img_np[0, 15:20, 5:10] = 2\n",
    "lbl_img_np[0, 25:30, 5:10] = 3\n",
    "lbl_img_np[0, 5:10, 15:20] = 4\n",
    "lbl_img_np[0, 15:20, 15:20] = 5\n",
    "lbl_img_np[0, 25:30, 15:20] = 6"
   ]
  },
  {
   "cell_type": "code",
   "execution_count": 3,
   "id": "1b011a75-6cc7-4674-8772-00b292b39f87",
   "metadata": {},
   "outputs": [],
   "source": [
    "# 2D example image\n",
    "shape = (50, 50)\n",
    "lbl_img_np = np.zeros(shape).astype('uint16')\n",
    "lbl_img_np[5:10, 5:10] = 1\n",
    "lbl_img_np[15:20, 5:10] = 2\n",
    "lbl_img_np[25:30, 5:10] = 3\n",
    "lbl_img_np[5:10, 15:20] = 4\n",
    "lbl_img_np[15:20, 15:20] = 5\n",
    "lbl_img_np[25:30, 15:20] = 6"
   ]
  },
  {
   "cell_type": "code",
   "execution_count": 4,
   "id": "16e648e4-7524-4c93-9038-59192d6b8dae",
   "metadata": {},
   "outputs": [],
   "source": [
    "import pandas as pd\n",
    "# Dummy df for this test\n",
    "d = {'test': [-100, 200, 300, 500, 900, 300], 'label': [1, 2, 3, 4, 5, 6], 'feature1': [100, 200, 300, 500, 900, 1001], 'feature2': [2200, 2100, 2000, 1500, 1300, 1001]}\n",
    "df = pd.DataFrame(data=d)\n",
    "df.to_csv('test_df_2.csv', index=False)"
   ]
  },
  {
   "cell_type": "code",
   "execution_count": 5,
   "id": "5143c2e2-ecf3-4c20-944e-632563ddbaed",
   "metadata": {},
   "outputs": [
    {
     "name": "stdout",
     "output_type": "stream",
     "text": [
      "creating new log file\n",
      "2021-06-15 18:31:00,976 [INFO] WRITING LOG OUTPUT TO C:\\Users\\Adria\\.cellpose\\run.log\n",
      "2021-06-15 18:31:20,618 [INFO] Note: NumExpr detected 16 cores but \"NUMEXPR_MAX_THREADS\" not set, so enforcing safe limit of 8.\n",
      "2021-06-15 18:31:20,619 [INFO] NumExpr defaulting to 8 threads.\n"
     ]
    }
   ],
   "source": [
    "viewer = napari.Viewer()\n",
    "viewer.add_image(lbl_img_np)\n",
    "viewer.add_labels(lbl_img_np, name='labels')\n",
    "#viewer.window.add_plugin_dock_widget('napari-feature-visualization')\n",
    "viewer.window.activate()\n",
    "\n",
    "# Open napari with my plugin\n",
    "#napari -w myplugin "
   ]
  },
  {
   "cell_type": "code",
   "execution_count": 4,
   "id": "a1bb97f1-385f-4169-9ce7-2569bd066574",
   "metadata": {},
   "outputs": [
    {
     "data": {
      "text/plain": [
       "<Image layer 'lbl_img_np [1]' at 0x7ff5cb7f90d0>"
      ]
     },
     "execution_count": 4,
     "metadata": {},
     "output_type": "execute_result"
    }
   ],
   "source": [
    "viewer.add_image(lbl_img_np)"
   ]
  },
  {
   "cell_type": "code",
   "execution_count": 9,
   "id": "32345489-f695-477f-835a-0e44f8248cf0",
   "metadata": {},
   "outputs": [],
   "source": [
    "feature='feature1'\n",
    "properties_array = np.zeros(df['label'].max() + 1)\n",
    "properties_array[df['label']] = df[feature]\n",
    "label_properties = {feature: np.round(properties_array, decimals=2)}"
   ]
  },
  {
   "cell_type": "code",
   "execution_count": 12,
   "id": "c5b8b70d-f9f1-423a-8801-75cdace5f252",
   "metadata": {},
   "outputs": [
    {
     "data": {
      "text/plain": [
       "<Labels layer 'feature1' at 0x7fa497982040>"
      ]
     },
     "execution_count": 12,
     "metadata": {},
     "output_type": "execute_result"
    }
   ],
   "source": [
    "viewer.add_labels(\n",
    "    lbl_img_np,\n",
    "    name=feature,\n",
    "    properties=label_properties,\n",
    "    opacity=1,\n",
    ")"
   ]
  },
  {
   "cell_type": "code",
   "execution_count": 10,
   "id": "72465cb0-3ae1-4d6d-a907-92ab631cf325",
   "metadata": {},
   "outputs": [
    {
     "data": {
      "text/plain": [
       "{'feature1': array([   0.,  100.,  200.,  300.,  500.,  900., 1001.])}"
      ]
     },
     "execution_count": 10,
     "metadata": {},
     "output_type": "execute_result"
    }
   ],
   "source": [
    "label_properties"
   ]
  }
 ],
 "metadata": {
  "kernelspec": {
   "display_name": "Python 3",
   "language": "python",
   "name": "python3"
  },
  "language_info": {
   "codemirror_mode": {
    "name": "ipython",
    "version": 3
   },
   "file_extension": ".py",
   "mimetype": "text/x-python",
   "name": "python",
   "nbconvert_exporter": "python",
   "pygments_lexer": "ipython3",
   "version": "3.7.6"
  }
 },
 "nbformat": 4,
 "nbformat_minor": 5
}
